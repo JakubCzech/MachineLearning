{
 "cells": [
  {
   "cell_type": "code",
   "execution_count": 36,
   "metadata": {},
   "outputs": [
    {
     "name": "stdout",
     "output_type": "stream",
     "text": [
      "Class 0: 12950\n",
      "Class 1: 87050\n"
     ]
    },
    {
     "ename": "KeyError",
     "evalue": "0",
     "output_type": "error",
     "traceback": [
      "\u001b[0;31m---------------------------------------------------------------------------\u001b[0m",
      "\u001b[0;31mKeyError\u001b[0m                                  Traceback (most recent call last)",
      "File \u001b[0;32m~/Documents/GitHub/MachineLearning/.wzum/lib/python3.10/site-packages/pandas/core/indexes/base.py:3621\u001b[0m, in \u001b[0;36mIndex.get_loc\u001b[0;34m(self, key, method, tolerance)\u001b[0m\n\u001b[1;32m   <a href='file:///home/jakub/Documents/GitHub/MachineLearning/.wzum/lib/python3.10/site-packages/pandas/core/indexes/base.py?line=3619'>3620</a>\u001b[0m \u001b[39mtry\u001b[39;00m:\n\u001b[0;32m-> <a href='file:///home/jakub/Documents/GitHub/MachineLearning/.wzum/lib/python3.10/site-packages/pandas/core/indexes/base.py?line=3620'>3621</a>\u001b[0m     \u001b[39mreturn\u001b[39;00m \u001b[39mself\u001b[39;49m\u001b[39m.\u001b[39;49m_engine\u001b[39m.\u001b[39;49mget_loc(casted_key)\n\u001b[1;32m   <a href='file:///home/jakub/Documents/GitHub/MachineLearning/.wzum/lib/python3.10/site-packages/pandas/core/indexes/base.py?line=3621'>3622</a>\u001b[0m \u001b[39mexcept\u001b[39;00m \u001b[39mKeyError\u001b[39;00m \u001b[39mas\u001b[39;00m err:\n",
      "File \u001b[0;32m~/Documents/GitHub/MachineLearning/.wzum/lib/python3.10/site-packages/pandas/_libs/index.pyx:136\u001b[0m, in \u001b[0;36mpandas._libs.index.IndexEngine.get_loc\u001b[0;34m()\u001b[0m\n",
      "File \u001b[0;32m~/Documents/GitHub/MachineLearning/.wzum/lib/python3.10/site-packages/pandas/_libs/index.pyx:163\u001b[0m, in \u001b[0;36mpandas._libs.index.IndexEngine.get_loc\u001b[0;34m()\u001b[0m\n",
      "File \u001b[0;32mpandas/_libs/hashtable_class_helper.pxi:5198\u001b[0m, in \u001b[0;36mpandas._libs.hashtable.PyObjectHashTable.get_item\u001b[0;34m()\u001b[0m\n",
      "File \u001b[0;32mpandas/_libs/hashtable_class_helper.pxi:5206\u001b[0m, in \u001b[0;36mpandas._libs.hashtable.PyObjectHashTable.get_item\u001b[0;34m()\u001b[0m\n",
      "\u001b[0;31mKeyError\u001b[0m: 0",
      "\nThe above exception was the direct cause of the following exception:\n",
      "\u001b[0;31mKeyError\u001b[0m                                  Traceback (most recent call last)",
      "\u001b[1;32m/home/jakub/Documents/GitHub/MachineLearning/test.ipynb Cell 1'\u001b[0m in \u001b[0;36m<cell line: 13>\u001b[0;34m()\u001b[0m\n\u001b[1;32m     <a href='vscode-notebook-cell:/home/jakub/Documents/GitHub/MachineLearning/test.ipynb#ch0000000?line=10'>11</a>\u001b[0m \u001b[39mprint\u001b[39m(\u001b[39m'\u001b[39m\u001b[39mClass 1:\u001b[39m\u001b[39m'\u001b[39m, target_count[\u001b[39m1\u001b[39m])\n\u001b[1;32m     <a href='vscode-notebook-cell:/home/jakub/Documents/GitHub/MachineLearning/test.ipynb#ch0000000?line=11'>12</a>\u001b[0m data \u001b[39m=\u001b[39m pd\u001b[39m.\u001b[39mread_csv(\u001b[39m\"\u001b[39m\u001b[39mresult.csv\u001b[39m\u001b[39m\"\u001b[39m)\n\u001b[0;32m---> <a href='vscode-notebook-cell:/home/jakub/Documents/GitHub/MachineLearning/test.ipynb#ch0000000?line=12'>13</a>\u001b[0m y \u001b[39m=\u001b[39m data[\u001b[39m0\u001b[39;49m]\n\u001b[1;32m     <a href='vscode-notebook-cell:/home/jakub/Documents/GitHub/MachineLearning/test.ipynb#ch0000000?line=14'>15</a>\u001b[0m target_count \u001b[39m=\u001b[39m y\u001b[39m.\u001b[39mvalue_counts()\n\u001b[1;32m     <a href='vscode-notebook-cell:/home/jakub/Documents/GitHub/MachineLearning/test.ipynb#ch0000000?line=15'>16</a>\u001b[0m \u001b[39mprint\u001b[39m(\u001b[39m'\u001b[39m\u001b[39mClass 0:\u001b[39m\u001b[39m'\u001b[39m, target_count[\u001b[39m0\u001b[39m])\n",
      "File \u001b[0;32m~/Documents/GitHub/MachineLearning/.wzum/lib/python3.10/site-packages/pandas/core/frame.py:3505\u001b[0m, in \u001b[0;36mDataFrame.__getitem__\u001b[0;34m(self, key)\u001b[0m\n\u001b[1;32m   <a href='file:///home/jakub/Documents/GitHub/MachineLearning/.wzum/lib/python3.10/site-packages/pandas/core/frame.py?line=3502'>3503</a>\u001b[0m \u001b[39mif\u001b[39;00m \u001b[39mself\u001b[39m\u001b[39m.\u001b[39mcolumns\u001b[39m.\u001b[39mnlevels \u001b[39m>\u001b[39m \u001b[39m1\u001b[39m:\n\u001b[1;32m   <a href='file:///home/jakub/Documents/GitHub/MachineLearning/.wzum/lib/python3.10/site-packages/pandas/core/frame.py?line=3503'>3504</a>\u001b[0m     \u001b[39mreturn\u001b[39;00m \u001b[39mself\u001b[39m\u001b[39m.\u001b[39m_getitem_multilevel(key)\n\u001b[0;32m-> <a href='file:///home/jakub/Documents/GitHub/MachineLearning/.wzum/lib/python3.10/site-packages/pandas/core/frame.py?line=3504'>3505</a>\u001b[0m indexer \u001b[39m=\u001b[39m \u001b[39mself\u001b[39;49m\u001b[39m.\u001b[39;49mcolumns\u001b[39m.\u001b[39;49mget_loc(key)\n\u001b[1;32m   <a href='file:///home/jakub/Documents/GitHub/MachineLearning/.wzum/lib/python3.10/site-packages/pandas/core/frame.py?line=3505'>3506</a>\u001b[0m \u001b[39mif\u001b[39;00m is_integer(indexer):\n\u001b[1;32m   <a href='file:///home/jakub/Documents/GitHub/MachineLearning/.wzum/lib/python3.10/site-packages/pandas/core/frame.py?line=3506'>3507</a>\u001b[0m     indexer \u001b[39m=\u001b[39m [indexer]\n",
      "File \u001b[0;32m~/Documents/GitHub/MachineLearning/.wzum/lib/python3.10/site-packages/pandas/core/indexes/base.py:3623\u001b[0m, in \u001b[0;36mIndex.get_loc\u001b[0;34m(self, key, method, tolerance)\u001b[0m\n\u001b[1;32m   <a href='file:///home/jakub/Documents/GitHub/MachineLearning/.wzum/lib/python3.10/site-packages/pandas/core/indexes/base.py?line=3620'>3621</a>\u001b[0m     \u001b[39mreturn\u001b[39;00m \u001b[39mself\u001b[39m\u001b[39m.\u001b[39m_engine\u001b[39m.\u001b[39mget_loc(casted_key)\n\u001b[1;32m   <a href='file:///home/jakub/Documents/GitHub/MachineLearning/.wzum/lib/python3.10/site-packages/pandas/core/indexes/base.py?line=3621'>3622</a>\u001b[0m \u001b[39mexcept\u001b[39;00m \u001b[39mKeyError\u001b[39;00m \u001b[39mas\u001b[39;00m err:\n\u001b[0;32m-> <a href='file:///home/jakub/Documents/GitHub/MachineLearning/.wzum/lib/python3.10/site-packages/pandas/core/indexes/base.py?line=3622'>3623</a>\u001b[0m     \u001b[39mraise\u001b[39;00m \u001b[39mKeyError\u001b[39;00m(key) \u001b[39mfrom\u001b[39;00m \u001b[39merr\u001b[39;00m\n\u001b[1;32m   <a href='file:///home/jakub/Documents/GitHub/MachineLearning/.wzum/lib/python3.10/site-packages/pandas/core/indexes/base.py?line=3623'>3624</a>\u001b[0m \u001b[39mexcept\u001b[39;00m \u001b[39mTypeError\u001b[39;00m:\n\u001b[1;32m   <a href='file:///home/jakub/Documents/GitHub/MachineLearning/.wzum/lib/python3.10/site-packages/pandas/core/indexes/base.py?line=3624'>3625</a>\u001b[0m     \u001b[39m# If we have a listlike key, _check_indexing_error will raise\u001b[39;00m\n\u001b[1;32m   <a href='file:///home/jakub/Documents/GitHub/MachineLearning/.wzum/lib/python3.10/site-packages/pandas/core/indexes/base.py?line=3625'>3626</a>\u001b[0m     \u001b[39m#  InvalidIndexError. Otherwise we fall through and re-raise\u001b[39;00m\n\u001b[1;32m   <a href='file:///home/jakub/Documents/GitHub/MachineLearning/.wzum/lib/python3.10/site-packages/pandas/core/indexes/base.py?line=3626'>3627</a>\u001b[0m     \u001b[39m#  the TypeError.\u001b[39;00m\n\u001b[1;32m   <a href='file:///home/jakub/Documents/GitHub/MachineLearning/.wzum/lib/python3.10/site-packages/pandas/core/indexes/base.py?line=3627'>3628</a>\u001b[0m     \u001b[39mself\u001b[39m\u001b[39m.\u001b[39m_check_indexing_error(key)\n",
      "\u001b[0;31mKeyError\u001b[0m: 0"
     ]
    }
   ],
   "source": [
    "import pandas as pd \n",
    "import matplotlib.pyplot as plt\n",
    "from sklearn.model_selection import train_test_split\n",
    "from sklearn.metrics import f1_score, accuracy_score, roc_auc_score\n",
    "from collections import Counter\n",
    "data = pd.read_csv(\"data.csv\")\n",
    "X = data.drop('DECYZJA', axis=1)\n",
    "y = data['DECYZJA']\n",
    "target_count = y.value_counts()\n",
    "print('Class 0:', target_count[0])\n",
    "print('Class 1:', target_count[1])\n",
    "data = pd.read_csv(\"result.csv\")\n",
    "\n",
    "target_count = data.value_counts()\n",
    "print('Class 0:', target_count[0])\n",
    "print('Class 1:', target_count[1])\n",
    "\n"
   ]
  },
  {
   "cell_type": "code",
   "execution_count": 21,
   "metadata": {},
   "outputs": [
    {
     "name": "stdout",
     "output_type": "stream",
     "text": [
      "Class 0: 12950\n",
      "Class 1: 87050\n",
      "Proportion: 0.15 : 1\n",
      "Random under-sampling:\n",
      "1    12950\n",
      "0    12950\n",
      "Name: DECYZJA, dtype: int64\n"
     ]
    },
    {
     "data": {
      "text/plain": [
       "<AxesSubplot:title={'center':'Count (target)'}>"
      ]
     },
     "execution_count": 21,
     "metadata": {},
     "output_type": "execute_result"
    },
    {
     "data": {
      "image/png": "[encoded data removed]",
      "text/plain": [
       "<Figure size 432x288 with 1 Axes>"
      ]
     },
     "metadata": {
      "needs_background": "light"
     },
     "output_type": "display_data"
    }
   ],
   "source": [
    "import numpy as np\n",
    "import pandas as pd\n",
    "\n",
    "df_train = pd.read_csv(\"data.csv\")\n",
    "\n",
    "target_count = df_train[\"DECYZJA\"].value_counts()\n",
    "print('Class 0:', target_count[0])\n",
    "print('Class 1:', target_count[1])\n",
    "print('Proportion:', round(target_count[0] / target_count[1], 2), ': 1')\n",
    "\n",
    "target_count.plot(kind='bar', title='Count (target)')\n",
    "count_class_0, count_class_1 = df_train['DECYZJA'].value_counts()\n",
    "\n",
    "# Divide by class\n",
    "df_class_0 = df_train[df_train['DECYZJA'] == 1]\n",
    "df_class_1 = df_train[df_train['DECYZJA'] == 0]\n",
    "df_class_0_under = df_class_0.sample(count_class_1)\n",
    "df_test_under = pd.concat([df_class_0_under, df_class_1], axis=0)\n",
    "\n",
    "print('Random under-sampling:')\n",
    "print(df_test_under[\"DECYZJA\"].value_counts())\n",
    "\n",
    "df_test_under[\"DECYZJA\"].value_counts().plot(kind='bar', title='Count (target)')\n"
   ]
  },
  {
   "cell_type": "code",
   "execution_count": null,
   "metadata": {},
   "outputs": [],
   "source": [
    "from imblearn.under_sampling import NearMiss\n",
    "nm = NearMiss()\n",
    "x_nm, y_nm = nm.fit_resample(X, y)\n",
    "print('Original dataset shape:', Counter(y))\n",
    "print('Resample dataset shape:', Counter(y_nm))\n",
    "X_train, X_test, y_train, y_test = train_test_split(x_nm, y_nm, test_size=0.2)\n"
   ]
  },
  {
   "cell_type": "code",
   "execution_count": 22,
   "metadata": {},
   "outputs": [
    {
     "name": "stdout",
     "output_type": "stream",
     "text": [
      "ROCAUC score: 0.7576738594096356\n",
      "Accuracy score: 0.7586872586872587\n",
      "F1 score: 0.7810091100210231\n"
     ]
    },
    {
     "name": "stderr",
     "output_type": "stream",
     "text": [
      "/home/jakub/Documents/GitHub/MachineLearning/.wzum/lib/python3.10/site-packages/sklearn/linear_model/_logistic.py:444: ConvergenceWarning: lbfgs failed to converge (status=1):\n",
      "STOP: TOTAL NO. of ITERATIONS REACHED LIMIT.\n",
      "\n",
      "Increase the number of iterations (max_iter) or scale the data as shown in:\n",
      "    https://scikit-learn.org/stable/modules/preprocessing.html\n",
      "Please also refer to the documentation for alternative solver options:\n",
      "    https://scikit-learn.org/stable/modules/linear_model.html#logistic-regression\n",
      "  n_iter_i = _check_optimize_result(\n"
     ]
    }
   ],
   "source": [
    "from sklearn.linear_model import LogisticRegression\n",
    "clf = LogisticRegression()\n",
    "clf.fit(X_train, y_train)\n",
    "clf_predict = clf.predict(X_test)\n",
    "print('ROCAUC score:',roc_auc_score(y_test, clf_predict))\n",
    "print('Accuracy score:',accuracy_score(y_test, clf_predict))\n",
    "print('F1 score:',f1_score(y_test, clf_predict))\n",
    "# Clear dataset\n",
    "    # ROCAUC score: 0.5\n",
    "    # Accuracy score: 0.86955\n",
    "    # F1 score: 0.9302238506592496\n",
    "# NearMiss\n",
    "    # ROCAUC score: 0.7594794337526802\n",
    "    # Accuracy score: 0.7588803088803089\n",
    "    # F1 score: 0.7780344766305313\n"
   ]
  },
  {
   "cell_type": "code",
   "execution_count": 23,
   "metadata": {},
   "outputs": [
    {
     "name": "stdout",
     "output_type": "stream",
     "text": [
      "ROCAUC score: 0.8299081182398442\n",
      "Accuracy score: 0.8308880308880309\n",
      "F1 score: 0.8462078651685394\n"
     ]
    }
   ],
   "source": [
    "from sklearn.ensemble import RandomForestClassifier\n",
    "clf = RandomForestClassifier(max_depth=14, random_state=0)\n",
    "clf.fit(X_train, y_train)\n",
    "clf_predict = clf.predict(X_test)\n",
    "print('ROCAUC score:',roc_auc_score(y_test, clf_predict))\n",
    "print('Accuracy score:',accuracy_score(y_test, clf_predict))\n",
    "print('F1 score:',f1_score(y_test, clf_predict))\n",
    "# Clear dataset\n",
    "    # ROCAUC score: 0.5044556337420841\n",
    "    # Accuracy score: 0.86965\n",
    "    # F1 score: 0.93018024049921\n",
    "# NearMiss\n",
    "    # ROCAUC score: 0.8362406901446686\n",
    "    # Accuracy score: 0.8357142857142857\n",
    "    # F1 score: 0.8471349021016706\n",
    "\n",
    "\n",
    "import pickle\n",
    "filename = 'model.sav'\n",
    "pickle.dump(clf, open(filename, 'wb'))\n",
    "\n",
    "\n"
   ]
  },
  {
   "cell_type": "code",
   "execution_count": null,
   "metadata": {},
   "outputs": [],
   "source": [
    "from sklearn import svm\n",
    "clf = svm.LinearSVC()\n",
    "clf.fit(X_train, y_train)\n",
    "clf_predict = clf.predict(X_test)\n",
    "print('ROCAUC score:',roc_auc_score(y_test, clf_predict))\n",
    "print('Accuracy score:',accuracy_score(y_test, clf_predict))\n",
    "print('F1 score:',f1_score(y_test, clf_predict))\n",
    "# Clear dataset\n",
    "    # ROCAUC score: 0.5\n",
    "    # Accuracy score: 0.86955\n",
    "    # F1 score: 0.9302238506592496\n"
   ]
  },
  {
   "cell_type": "code",
   "execution_count": null,
   "metadata": {},
   "outputs": [],
   "source": [
    "from sklearn.naive_bayes import GaussianNB\n",
    "clf = GaussianNB()\n",
    "clf.fit(X_train, y_train)\n",
    "clf_predict = clf.predict(X_test)\n",
    "print('ROCAUC score:',roc_auc_score(y_test, clf_predict))\n",
    "print('Accuracy score:',accuracy_score(y_test, clf_predict))\n",
    "print('F1 score:',f1_score(y_test, clf_predict))\n",
    "# Clear dataset\n",
    "    # ROCAUC score: 0.5055263117353691\n",
    "    # Accuracy score: 0.84205\n",
    "    # F1 score: 0.9136389731813336\n",
    "# NearMiss\n",
    "    # ROCAUC score: 0.7254249560698713\n",
    "    # Accuracy score: 0.7237451737451738\n",
    "    # F1 score: 0.7792007406264465\n"
   ]
  },
  {
   "cell_type": "code",
   "execution_count": null,
   "metadata": {},
   "outputs": [],
   "source": [
    "from sklearn.neural_network import MLPClassifier\n",
    "parameters = {'kernel':('linear', 'rbf'), 'C':[1, 10]}\n",
    "clf = MLPClassifier(alpha=1, max_iter=1000)\n",
    "clf.fit(X_train, y_train)\n",
    "clf_predict =clf.predict(X_test)\n",
    "print('ROCAUC score:',roc_auc_score(y_test, clf_predict))\n",
    "print('Accuracy score:',accuracy_score(y_test, clf_predict))\n",
    "print('F1 score:',f1_score(y_test, clf_predict))\n",
    "# Clear dataset\n",
    "    # ROCAUC score: 0.5001053927987626\n",
    "    # Accuracy score: 0.86945\n",
    "    # F1 score: 0.9301628908444111\n",
    "# NearMiss\n",
    "    # ROCAUC score: 0.710313990659546\n",
    "    # Accuracy score: 0.7084942084942085\n",
    "    # F1 score: 0.7709344660194174\n",
    "\n"
   ]
  },
  {
   "cell_type": "code",
   "execution_count": null,
   "metadata": {},
   "outputs": [],
   "source": [
    "from sklearn.tree import DecisionTreeClassifier\n",
    "clf = DecisionTreeClassifier(random_state=0)\n",
    "clf.fit(X_train, y_train)\n",
    "clf_predict = clf.predict(X_test)\n",
    "print('ROCAUC score:',roc_auc_score(y_test, clf_predict))\n",
    "print('Accuracy score:',accuracy_score(y_test, clf_predict))\n",
    "print('F1 score:',f1_score(y_test, clf_predict))\n",
    "# Clear dataset\n",
    "    # ROCAUC score: 0.5474520387280407\n",
    "    # Accuracy score: 0.78635\n",
    "    # F1 score: 0.8763492201290622\n",
    "# NearMiss\n",
    "    # ROCAUC score: 0.7636659709106294\n",
    "    # Accuracy score: 0.7637065637065638\n",
    "    # F1 score: 0.7610308473252635\n",
    "\n",
    "import pickle\n",
    "filename = 'model.sav'\n",
    "pickle.dump(clf, open(filename, 'wb'))"
   ]
  },
  {
   "cell_type": "code",
   "execution_count": 24,
   "metadata": {},
   "outputs": [
    {
     "name": "stdout",
     "output_type": "stream",
     "text": [
      "ROCAUC score: 0.7567022337996302\n",
      "Accuracy score: 0.7577220077220077\n",
      "F1 score: 0.7802486429697075\n"
     ]
    }
   ],
   "source": [
    "from sklearn.svm import SVC\n",
    "svc_model = SVC(class_weight='balanced', probability=True)\n",
    "svc_model.fit(X_train, y_train)\n",
    "svc_predict = svc_model.predict(X_test)\n",
    "print('ROCAUC score:',roc_auc_score(y_test, svc_predict))\n",
    "print('Accuracy score:',accuracy_score(y_test, svc_predict))\n",
    "print('F1 score:',f1_score(y_test, svc_predict))\n",
    "# Clear dataset\n",
    "\n",
    "# NearMiss\n",
    "    # ROCAUC score: 0.7571931439332443\n",
    "    # Accuracy score: 0.7565637065637065\n",
    "    # F1 score: 0.7768536542204918\n",
    "\n",
    "import pickle\n",
    "filename = 'model.sav'\n",
    "pickle.dump(clf, open(filename, 'wb'))"
   ]
  },
  {
   "cell_type": "code",
   "execution_count": 25,
   "metadata": {},
   "outputs": [],
   "source": [
    "from sklearn.impute import SimpleImputer\n",
    "from sklearn.preprocessing import StandardScaler\n",
    "from sklearn.preprocessing import OneHotEncoder\n",
    "from sklearn.pipeline import make_pipeline\n",
    "\n",
    "num_pipe = make_pipeline(\n",
    "    StandardScaler(), SimpleImputer(strategy=\"mean\", add_indicator=True)\n",
    ")\n",
    "cat_pipe = make_pipeline(\n",
    "    SimpleImputer(strategy=\"constant\", fill_value=\"missing\"),\n",
    "    OneHotEncoder(handle_unknown=\"ignore\"),\n",
    ")\n",
    "\n",
    "from sklearn.compose import make_column_transformer\n",
    "from sklearn.compose import make_column_selector as selector\n",
    "\n",
    "preprocessor_linear = make_column_transformer(\n",
    "    (num_pipe, selector(dtype_include=\"number\")),\n",
    "    (cat_pipe, selector(dtype_include=\"category\")),\n",
    "    n_jobs=2,\n",
    ")\n",
    "\n",
    "from sklearn.linear_model import LogisticRegression\n",
    "\n",
    "lr_clf = make_pipeline(preprocessor_linear, LogisticRegression(max_iter=1000))"
   ]
  },
  {
   "cell_type": "code",
   "execution_count": 28,
   "metadata": {},
   "outputs": [],
   "source": [
    "from sklearn.preprocessing import OrdinalEncoder\n",
    "from sklearn.ensemble import RandomForestClassifier\n",
    "from sklearn.compose import make_column_transformer\n",
    "from sklearn.compose import make_column_selector as selector\n",
    "\n",
    "num_pipe = SimpleImputer(strategy=\"mean\", add_indicator=True)\n",
    "cat_pipe = make_pipeline(\n",
    "    SimpleImputer(strategy=\"constant\", fill_value=\"missing\"),\n",
    "    OrdinalEncoder(handle_unknown=\"use_encoded_value\", unknown_value=-1),\n",
    ")\n",
    "\n",
    "preprocessor_tree = make_column_transformer(\n",
    "    (num_pipe, selector(dtype_include=\"number\")),\n",
    "    (cat_pipe, selector(dtype_include=\"category\")),\n",
    "    n_jobs=2,\n",
    ")\n",
    "\n",
    "rf_clf = make_pipeline(\n",
    "    preprocessor_tree, RandomForestClassifier(random_state=42, n_jobs=2)\n",
    ")"
   ]
  }
 ],
 "metadata": {
  "interpreter": {
   "hash": "4619dd158561e2598679546169d0078f919b744b47b8c6dbe02c3c4c716a1aa5"
  },
  "kernelspec": {
   "display_name": "Python 3.10.4 ('.wzum': venv)",
   "language": "python",
   "name": "python3"
  },
  "language_info": {
   "codemirror_mode": {
    "name": "ipython",
    "version": 3
   },
   "file_extension": ".py",
   "mimetype": "text/x-python",
   "name": "python",
   "nbconvert_exporter": "python",
   "pygments_lexer": "ipython3",
   "version": "3.10.4"
  },
  "orig_nbformat": 4
 },
 "nbformat": 4,
 "nbformat_minor": 2
}
