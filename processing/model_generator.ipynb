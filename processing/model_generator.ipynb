{
 "cells": [
  {
   "cell_type": "code",
   "execution_count": 20,
   "metadata": {},
   "outputs": [],
   "source": [
    "from sklearn.datasets import fetch_openml\n",
    "import pandas as pd \n",
    "\n",
    "data = pd.read_csv(\"../data.csv\")\n",
    "X = data.drop('DECYZJA', axis=1)\n",
    "y = data['DECYZJA']"
   ]
  },
  {
   "cell_type": "code",
   "execution_count": 21,
   "metadata": {},
   "outputs": [],
   "source": [
    "classes_count = y.value_counts()"
   ]
  },
  {
   "cell_type": "code",
   "execution_count": 22,
   "metadata": {},
   "outputs": [],
   "source": [
    "from sklearn.preprocessing import OrdinalEncoder\n",
    "from sklearn.impute import SimpleImputer\n",
    "from sklearn.pipeline import make_pipeline\n",
    "from sklearn.compose import make_column_transformer\n",
    "from sklearn.compose import make_column_selector as selector\n",
    "\n",
    "\n",
    "num_pipe = SimpleImputer(strategy=\"mean\", add_indicator=True)\n",
    "cat_pipe = make_pipeline(\n",
    "    SimpleImputer(strategy=\"constant\", fill_value=\"missing\"),\n",
    "    OrdinalEncoder(handle_unknown=\"use_encoded_value\", unknown_value=-1),\n",
    ")\n",
    "\n",
    "preprocessor_tree = make_column_transformer(\n",
    "    (num_pipe, selector(dtype_include=\"number\")),\n",
    "    (cat_pipe, selector(dtype_include=\"category\")),\n",
    "    n_jobs=2,\n",
    ")\n"
   ]
  },
  {
   "cell_type": "code",
   "execution_count": 27,
   "metadata": {},
   "outputs": [],
   "source": [
    "from sklearn.experimental import enable_hist_gradient_boosting  # noqa\n",
    "from sklearn.ensemble import HistGradientBoostingClassifier\n",
    "from imblearn.ensemble import BalancedBaggingClassifier\n",
    "from sklearn.model_selection import cross_validate\n",
    "from sklearn.model_selection import train_test_split\n",
    "\n",
    "bag_clf = make_pipeline(\n",
    "    preprocessor_tree,\n",
    "    BalancedBaggingClassifier(\n",
    "        base_estimator=HistGradientBoostingClassifier(random_state=42),\n",
    "        n_estimators=10,\n",
    "        random_state=42,\n",
    "        n_jobs=2,\n",
    "    ),\n",
    ")\n",
    "# scoring = [\"accuracy\", \"balanced_accuracy\"]\n",
    "# cv_result = cross_validate(bag_clf, X, y, scoring=scoring)\n",
    "\n",
    "import pickle\n",
    "filename = 'model.sav'\n",
    "# X_train, X_test, y_train, y_test = train_test_split(X, y, test_size=0.2)\n",
    "# bag_clf.fit(X_train,y_train)\n",
    "bag_clf.fit(X,y)\n",
    "\n",
    "pickle.dump(bag_clf, open(filename, 'wb'))\n",
    "# clf_predict = bag_clf.predict(X_test)\n",
    "# from sklearn.metrics import f1_score, accuracy_score, roc_auc_score\n",
    "# print('ROCAUC score:',roc_auc_score(y_test, clf_predict))\n",
    "# print('Accuracy score:',accuracy_score(y_test, clf_predict))\n",
    "# print('F1 score:',f1_score(y_test, clf_predict))\n",
    "\n",
    "\n"
   ]
  }
 ],
 "metadata": {
  "interpreter": {
   "hash": "4619dd158561e2598679546169d0078f919b744b47b8c6dbe02c3c4c716a1aa5"
  },
  "kernelspec": {
   "display_name": "Python 3.10.4 ('.wzum': venv)",
   "language": "python",
   "name": "python3"
  },
  "language_info": {
   "codemirror_mode": {
    "name": "ipython",
    "version": 3
   },
   "file_extension": ".py",
   "mimetype": "text/x-python",
   "name": "python",
   "nbconvert_exporter": "python",
   "pygments_lexer": "ipython3",
   "version": "3.10.4"
  },
  "orig_nbformat": 4
 },
 "nbformat": 4,
 "nbformat_minor": 2
}
